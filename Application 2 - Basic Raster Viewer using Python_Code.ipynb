{
 "cells": [
  {
   "cell_type": "markdown",
   "id": "e5b30b53-f53b-4e24-a9e1-ba417dcfbed0",
   "metadata": {},
   "source": [
    "# Application 2 - Basic Raster Viewer using Python"
   ]
  },
  {
   "cell_type": "markdown",
   "id": "3dc56ed4-0390-40e5-b84a-912055ef481d",
   "metadata": {},
   "source": [
    "# REQUIRED MODULE'S \n",
    "import rasterio\n",
    "import matplotlib.pyplot as plt\n",
    "from ipywidgets import interact, Dropdown\n",
    "from ipywidgets import fixed\n",
    "import geopandas as gpd\n",
    "import numpy as np\n",
    "# implementation using function for each task (all task done by functional implementation)\n",
    "\n",
    "\n",
    "\n",
    "\n",
    "# Task 1: Develop a Python-based raster viewer. Implement functionalities for  loading and displaying raster data\n",
    "def load_raster(file_path):\n",
    "    img = rasterio.open(file_path)\n",
    "    data = img.read(1)\n",
    "    return data, img.bounds\n",
    "\n",
    "def display_raster(data, extent):\n",
    "    plt.imshow(data, cmap='viridis', extent=extent)\n",
    "    plt.title('Raster Data')\n",
    "    plt.show()\n",
    "\n",
    "# Task 2: Integrate mathematical transformations\n",
    "\n",
    "def apply_logarithmic_transformation(data):\n",
    "    return np.log1p(data)\n",
    "\n",
    "\n",
    "\n",
    "#  Task 3: Shapefile (Shp) File Attribute Data Chart Plotting (using Matplotlib):\n",
    "def plot_shapefile_attributes(shp_file_path):\n",
    "    gdf = gpd.read_file(shp_file_path)\n",
    "    gdf.plot(kind='bar', legend=True)\n",
    "    plt.title('Shapefile Attribute Data')\n",
    "    plt.xlabel('Features')\n",
    "    plt.ylabel('Attribute Values')\n",
    "    plt.show()\n",
    "\n",
    "def main():\n",
    "    # Load raster data from my system (local)\n",
    "    # previously worked raster data from landset satellite\n",
    "    fp_raster = r'I:\\LANDSET_YASH\\NDVI.tif'\n",
    "    data, extent = load_raster(fp_raster)\n",
    "\n",
    "    # Display the raster\n",
    "    display_raster(data, extent)\n",
    "\n",
    "    # Task 4: Apply a logarithmic transformation\n",
    "    transformed_data = apply_logarithmic_transformation(data)\n",
    "    plt.imshow(transformed_data, cmap='viridis', extent=extent)\n",
    "    plt.title('Logarithmic Transformation of NDVI')\n",
    "    plt.show()\n",
    "\n",
    "    # Load and plot shapefile attributes\n",
    "    fp_shapefile = r'I:\\LANDSET_YASH\\vector_shape_file_ndvi.shp'\n",
    "    plot_shapefile_attributes(fp_shapefile)\n",
    "\n",
    "if __name__ == \"__main__\":\n",
    "    main()"
   ]
  },
  {
   "cell_type": "code",
   "execution_count": null,
   "id": "96f5dc02-07f6-4d6c-a5d4-16511f5bda0e",
   "metadata": {},
   "outputs": [],
   "source": []
  }
 ],
 "metadata": {
  "kernelspec": {
   "display_name": "Python 3 (ipykernel)",
   "language": "python",
   "name": "python3"
  },
  "language_info": {
   "codemirror_mode": {
    "name": "ipython",
    "version": 3
   },
   "file_extension": ".py",
   "mimetype": "text/x-python",
   "name": "python",
   "nbconvert_exporter": "python",
   "pygments_lexer": "ipython3",
   "version": "3.11.4"
  }
 },
 "nbformat": 4,
 "nbformat_minor": 5
}
